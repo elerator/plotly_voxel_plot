{
 "cells": [
  {
   "cell_type": "markdown",
   "metadata": {},
   "source": [
    "Here a labeled 3D array (aka tensor) is used to create a multi color plot"
   ]
  },
  {
   "cell_type": "code",
   "execution_count": 11,
   "metadata": {},
   "outputs": [],
   "source": [
    "from plotly_voxel_plot import *\n",
    "import random\n",
    "import numpy as np"
   ]
  },
  {
   "cell_type": "code",
   "execution_count": 12,
   "metadata": {},
   "outputs": [],
   "source": [
    "tensor = np.load(\"tensor.npy\")"
   ]
  },
  {
   "cell_type": "code",
   "execution_count": 13,
   "metadata": {},
   "outputs": [],
   "source": [
    "labels = list(set(list(tensor.flatten())))\n",
    "labels.sort()"
   ]
  },
  {
   "cell_type": "code",
   "execution_count": null,
   "metadata": {},
   "outputs": [],
   "source": [
    "mesh = []\n",
    "for i in labels:\n",
    "    if i < 1:#Do not plot solid material but only pores.\n",
    "        continue\n",
    "    color = [random.random(), random.random(), random.random()]\n",
    "    mesh.extend(voxels_to_mesh(tensor == i, color = \"rgb(\"+str(color[0])+\",\"+str(color[1])+\",\"+str(color[2])+\")\", opacity = 1))"
   ]
  },
  {
   "cell_type": "code",
   "execution_count": null,
   "metadata": {},
   "outputs": [],
   "source": [
    "fig = go.Figure(mesh)\n",
    "fig = fig.update_layout(\n",
    "    scene = dict(\n",
    "        xaxis = dict(nticks=4, range=[0,tensor.shape[0]],),\n",
    "                     yaxis = dict(nticks=4, range=[0,tensor.shape[1]],),\n",
    "                     zaxis = dict(nticks=4, range=[0,tensor.shape[2]],),),\n",
    "    width=700,\n",
    "    margin=dict(r=20, l=10, b=10, t=10))\n",
    "fig.show()"
   ]
  },
  {
   "cell_type": "code",
   "execution_count": null,
   "metadata": {},
   "outputs": [],
   "source": []
  }
 ],
 "metadata": {
  "kernelspec": {
   "display_name": "Python 3",
   "language": "python",
   "name": "python3"
  },
  "language_info": {
   "codemirror_mode": {
    "name": "ipython",
    "version": 3
   },
   "file_extension": ".py",
   "mimetype": "text/x-python",
   "name": "python",
   "nbconvert_exporter": "python",
   "pygments_lexer": "ipython3",
   "version": "3.7.6"
  }
 },
 "nbformat": 4,
 "nbformat_minor": 4
}
